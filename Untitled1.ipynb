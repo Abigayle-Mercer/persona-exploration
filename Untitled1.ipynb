{
 "cells": [
  {
   "cell_type": "code",
   "execution_count": null,
   "id": "9b6777d7-8598-4955-a958-d0b9757cfd41",
   "metadata": {},
   "outputs": [],
   "source": [
    "def func1(x): \n",
    "    # This function returns the square of the input\n",
    "    return x * x"
   ]
  },
  {
   "cell_type": "code",
   "execution_count": null,
   "id": "1e71e27a-f97f-4b89-a86b-aad487fbb857",
   "metadata": {},
   "outputs": [],
   "source": [
    "def func2(x, y):\n",
    "    # This function returns the sum of the inputs\n",
    "    return x + y"
   ]
  },
  {
   "cell_type": "code",
   "execution_count": null,
   "id": "1f0ab4a9-5aa2-4951-961e-6f64f9b6b90e",
   "metadata": {},
   "outputs": [],
   "source": [
    "def func3(x, y): \n",
    "    return x - y"
   ]
  },
  {
   "cell_type": "code",
   "execution_count": null,
   "id": "048c5ccb-30f7-4fb5-b2bb-8b85293e7211",
   "metadata": {},
   "outputs": [],
   "source": [
    "def func4(x, y): \n",
    "    # This function returns the first input raised to the power of the second input\n",
    "    return x ** y"
   ]
  }
 ],
 "metadata": {
  "kernelspec": {
   "display_name": "Python 3 (ipykernel)",
   "language": "python",
   "name": "python3"
  },
  "language_info": {
   "codemirror_mode": {
    "name": "ipython",
    "version": 3
   },
   "file_extension": ".py",
   "mimetype": "text/x-python",
   "name": "python",
   "nbconvert_exporter": "python",
   "pygments_lexer": "ipython3",
   "version": "3.13.3"
  }
 },
 "nbformat": 4,
 "nbformat_minor": 5
}
