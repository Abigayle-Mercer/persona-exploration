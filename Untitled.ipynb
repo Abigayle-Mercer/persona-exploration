{
 "cells": [
  {
   "cell_type": "code",
   "execution_count": null,
   "id": "65b54dd2-12c9-46eb-92f9-2f1fdb1c4b3b",
   "metadata": {},
   "outputs": [],
   "source": [
    "def func1(x): \n",
    "    \"\"\"\n",
    "    This cufntion is sjposed to multpy sanother nummber by itself\n",
    "    \"\"\""
   ]
  },
  {
   "cell_type": "code",
   "execution_count": null,
   "id": "423589e0-dc6c-49c3-8674-60de72966067",
   "metadata": {},
   "outputs": [],
   "source": []
  },
  {
   "cell_type": "code",
   "execution_count": null,
   "id": "b0e26dde-0696-42cf-8511-46956cf7ef0d",
   "metadata": {},
   "outputs": [],
   "source": [
    "def func2(x, y): \n",
    "    \"\"\"\n",
    "    This function is going to add x and y together\n",
    "    \"\"\""
   ]
  },
  {
   "cell_type": "code",
   "execution_count": null,
   "id": "2f6e90a9-2ed9-4469-8a11-255e26879f3b",
   "metadata": {},
   "outputs": [],
   "source": []
  }
 ],
 "metadata": {
  "kernelspec": {
   "display_name": "Python 3 (ipykernel)",
   "language": "python",
   "name": "python3"
  },
  "language_info": {
   "codemirror_mode": {
    "name": "ipython",
    "version": 3
   },
   "file_extension": ".py",
   "mimetype": "text/x-python",
   "name": "python",
   "nbconvert_exporter": "python",
   "pygments_lexer": "ipython3",
   "version": "3.13.3"
  }
 },
 "nbformat": 4,
 "nbformat_minor": 5
}
