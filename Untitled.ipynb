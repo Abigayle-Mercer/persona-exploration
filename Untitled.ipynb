{
 "cells": [
  {
   "cell_type": "markdown",
   "id": "feeb5f23-20ed-4377-97c3-69180706b70b",
   "metadata": {},
   "source": [
    "This notebook is about to take you on a wild ride through the thrilling world of list comprehension, darling. Fasten your seatbelts, it's going to be a bumpy ride!"
   ]
  },
  {
   "cell_type": "code",
   "execution_count": null,
   "id": "bfc0a1ca-beb8-4b19-a374-e54d33ed9a0c",
   "metadata": {},
   "outputs": [],
   "source": [
    "# This cell defines a list 'a' and creates an empty list 'res'.\n",
    "# It then loops through each value in 'a', multiplies it by 2, and appends the result to 'res'.\n",
    "# Finally, it prints the 'res' list.\n",
    "\n",
    "# Defining a list\n",
    "a = [1, 2, 3, 4, 5]\n",
    "\n",
    "# Creating an empty list to store results\n",
    "res = []\n",
    "\n",
    "# Looping through each value in the list\n",
    "for val in a:\n",
    "    \n",
    "    # Multiplying each value by 2 and appending to the result list\n",
    "    res.append(val * 2)\n",
    "\n",
    "# Printing the result list\n",
    "print(res)"
   ]
  },
  {
   "cell_type": "markdown",
   "id": "02221801-80cb-448d-80cc-6884b0a417db",
   "metadata": {},
   "source": [
    "Hold on to your hats, sweetie! This next example is going to pop your eyes out of your head. Get ready for a mind-blowing explosion!"
   ]
  },
  {
   "cell_type": "code",
   "execution_count": null,
   "id": "e2dd6af6-97c1-4c2d-8d6b-f8cfed80354f",
   "metadata": {},
   "outputs": [],
   "source": [
    "# This cell defines a function 'func1' that takes two arguments 'x' and 'y', and returns the difference between 'x' and 'y'.\n",
    "\n",
    "def func1(x, y): \n",
    "    return x - y"
   ]
  },
  {
   "cell_type": "code",
   "execution_count": null,
   "id": "70577a5c-15c2-433f-8ab3-60b3fa50c51b",
   "metadata": {},
   "outputs": [],
   "source": []
  }
 ],
 "metadata": {
  "kernelspec": {
   "display_name": "Python 3 (ipykernel)",
   "language": "python",
   "name": "python3"
  },
  "language_info": {
   "codemirror_mode": {
    "name": "ipython",
    "version": 3
   },
   "file_extension": ".py",
   "mimetype": "text/x-python",
   "name": "python",
   "nbconvert_exporter": "python",
   "pygments_lexer": "ipython3",
   "version": "3.13.3"
  }
 },
 "nbformat": 4,
 "nbformat_minor": 5
}
