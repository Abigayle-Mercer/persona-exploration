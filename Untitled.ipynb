{
 "cells": [
  {
   "cell_type": "code",
   "execution_count": null,
   "id": "65b54dd2-12c9-46eb-92f9-2f1fdb1c4b3b",
   "metadata": {},
   "outputs": [],
   "source": [
    "def func1(x): \n",
    "    \"\"\"\n",
    "    This function is supposed to multiply another number by itself\n",
    "    \"\"\"\n",
    "    return x * x"
   ]
  },
  {
   "cell_type": "markdown",
   "id": "9c5f460f-c23e-4110-88fa-9b2bb4aa50d0",
   "metadata": {},
   "source": [
    "# teh fcntion ebewlosd is goin gto add two nmbers togere"
   ]
  },
  {
   "cell_type": "code",
   "execution_count": null,
   "id": "b0e26dde-0696-42cf-8511-46956cf7ef0d",
   "metadata": {},
   "outputs": [],
   "source": [
    "def func2(x, y): \n",
    "    \"\"\"\n",
    "    This function is going to add x and y together\n",
    "    \"\"\""
   ]
  },
  {
   "cell_type": "markdown",
   "id": "c2775b88-2049-4441-82b7-32d5599c7dd7",
   "metadata": {},
   "source": [
    "thisd notebook expolroes riting functions"
   ]
  }
 ],
 "metadata": {
  "kernelspec": {
   "display_name": "Python 3 (ipykernel)",
   "language": "python",
   "name": "python3"
  },
  "language_info": {
   "codemirror_mode": {
    "name": "ipython",
    "version": 3
   },
   "file_extension": ".py",
   "mimetype": "text/x-python",
   "name": "python",
   "nbconvert_exporter": "python",
   "pygments_lexer": "ipython3",
   "version": "3.13.3"
  }
 },
 "nbformat": 4,
 "nbformat_minor": 5
}
