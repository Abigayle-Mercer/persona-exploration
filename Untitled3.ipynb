{
 "cells": [
  {
   "cell_type": "markdown",
   "id": "537dd2ea-4116-4001-a775-bfa7bc22760d",
   "metadata": {},
   "source": [
    "# Thsi  notedbook is an eximpl of slist comprehsion "
   ]
  },
  {
   "cell_type": "markdown",
   "id": "9dbdc137-7730-402b-98f5-ea3e63def866",
   "metadata": {},
   "source": [
    "Example # 1"
   ]
  },
  {
   "cell_type": "code",
   "execution_count": null,
   "id": "bf9cb634-ca97-48da-b05a-19b6712ce4c6",
   "metadata": {},
   "outputs": [],
   "source": [
    "fruits = [\"apple\", \"banana\", \"cherry\", \"kiwi\", \"mango\"]\n",
    "newlist = []\n",
    "\n",
    "for x in fruits:\n",
    "  if \"a\" in x:\n",
    "    newlist.append(x)\n",
    "\n",
    "print(newlist)"
   ]
  },
  {
   "cell_type": "markdown",
   "id": "684c4f11-867f-4457-92db-082c88f3e45a",
   "metadata": {},
   "source": [
    "Eximple: #2"
   ]
  },
  {
   "cell_type": "code",
   "execution_count": null,
   "id": "6223b5ab-3962-4b50-9ba1-71d1693d9818",
   "metadata": {},
   "outputs": [],
   "source": [
    "fruits = [\"apple\", \"banana\", \"cherry\", \"kiwi\", \"mango\"]\n",
    "\n",
    "newlist = [x for x in fruits if \"a\" in x]\n",
    "\n",
    "print(newlist)"
   ]
  }
 ],
 "metadata": {
  "kernelspec": {
   "display_name": "Python 3 (ipykernel)",
   "language": "python",
   "name": "python3"
  },
  "language_info": {
   "codemirror_mode": {
    "name": "ipython",
    "version": 3
   },
   "file_extension": ".py",
   "mimetype": "text/x-python",
   "name": "python",
   "nbconvert_exporter": "python",
   "pygments_lexer": "ipython3",
   "version": "3.13.3"
  }
 },
 "nbformat": 4,
 "nbformat_minor": 5
}
